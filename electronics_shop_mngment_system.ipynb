{
 "cells": [
  {
   "cell_type": "code",
   "execution_count": 1,
   "id": "1cbb9bfc-ab83-4415-b798-db27b43a7fe2",
   "metadata": {},
   "outputs": [],
   "source": [
    "import pandas as pd\n",
    "import matplotlib.pyplot as plt\n",
    "from datetime import date"
   ]
  },
  {
   "cell_type": "code",
   "execution_count": 2,
   "id": "cd2bddd4-d8bd-4407-ac98-4dcb71a3da1f",
   "metadata": {},
   "outputs": [],
   "source": [
    "def showMenu():\n",
    "    print(\"::::::::::::::::::::::::::::--welcome to electronic shop management system--::::::::::::::::::::::::::::\")\n",
    "    print()\n",
    "    print()\n",
    "    print()\n",
    "    print()\n",
    "    print(\".......................................................................................................\")\n",
    "    print(\"-------------------------------------------------------------------------------------------------------\")\n",
    "    print(\"|                                     ELECTRONIC SHOP ASSOCIATION                                     |\")\n",
    "    print(\"-------------------------------------------------------------------------------------------------------\")\n",
    "    print(\".......................................................................................................\")\n",
    "    print(\"Press 1 - to show all costumer details\")\n",
    "    print(\"Press 2 - to search in costumer\")\n",
    "    print(\"Press 3 - to add new costumer\")\n",
    "    print(\"Press 4 - to delete product detail\")\n",
    "    print(\"Press 5 - to show all product details\")\n",
    "    print(\"Press 6 - to search in product\")\n",
    "    print(\"Press 7 - to add new product\")\n",
    "    print(\"Press 8 - to delete product details\")\n",
    "    print(\"Press 9 - to veiw product VS profit chart\")\n",
    "    print(\"Press 10 - to veiw sells VS product chart\")\n",
    "    print(\"Press 11 - to exit\")\n",
    "    print()\n",
    "    print()\n",
    "    print()\n",
    "\n",
    "    \n",
    "    ch = int(input(\"enter the choice:::\"))\n",
    "    if ch ==1:\n",
    "        showcostumer()\n",
    "    elif ch ==2:\n",
    "        searchcostumer()\n",
    "    elif ch ==3:\n",
    "        addnewcostumer()\n",
    "    elif ch ==4:\n",
    "        deletecostumerdetail()\n",
    "    elif ch ==5:\n",
    "        showproducts()\n",
    "    elif ch ==6:\n",
    "        searchproduct()\n",
    "    elif ch ==7:\n",
    "        addnewproduct()\n",
    "    elif ch ==8:\n",
    "        deleteproductdetail()\n",
    "    elif ch ==9:\n",
    "        veiwprofitchart()\n",
    "    elif ch ==10:\n",
    "        veiwsell_productchart()\n",
    "    elif ch ==11:\n",
    "        exit()\n",
    "    else:\n",
    "        print(\"Invalid option selected.... Please enter the right option...\")"
   ]
  },
  {
   "cell_type": "code",
   "execution_count": 3,
   "id": "57111666-1515-4816-9425-db27003818f0",
   "metadata": {},
   "outputs": [],
   "source": [
    "def showcostumer():\n",
    "    cst=pd.read_csv(\"costumer.csv\", index_col=0)\n",
    "    print(cst)\n",
    "    showMenu()"
   ]
  },
  {
   "cell_type": "code",
   "execution_count": 4,
   "id": "9ace3aeb-9b1d-423e-b648-a9046721cb49",
   "metadata": {},
   "outputs": [],
   "source": [
    "def searchcostumer():\n",
    "    costumername=input(\"enter costumer name\")\n",
    "    cos=pd.read_csv(\"costumer.csv\")\n",
    "    df=cos.loc[cos[\"costumername\"]==costumername]\n",
    "    if df.empty:\n",
    "        print(\"no details found of given name\")\n",
    "    else:\n",
    "        print(\"costumer details are\")\n",
    "        print(df)\n",
    "    showMenu()"
   ]
  },
  {
   "cell_type": "code",
   "execution_count": 5,
   "id": "a4906d69-bccb-49c3-81ec-1605f780dd45",
   "metadata": {},
   "outputs": [],
   "source": [
    "    \n",
    "def addnewcostumer():\n",
    "    s_no = int(input(\"enter a scholar number :: \"))\n",
    "    costumername = input(\"enter costumer name :: \")\n",
    "    itempurchase = input(\"enter item purchased name :: \")\n",
    "    brand = input(\"enter brand name :: \")\n",
    "    price = int(input(\"enter price :: \"))\n",
    "    phone = int(input(\"enter the phone number :: \"))\n",
    "    purchase_date = input(\"enter the date of purchase :: \")\n",
    "    cst = pd.read_csv(\"costumer.csv\")\n",
    "    n = cst[\"s_no\"].count()\n",
    "    cst.at[n]=[s_no,costumername,itempurchase,brand,price,phoneno,dateofpurchase]\n",
    "    cst.to_csv(\"costumer.csv\",index=False)\n",
    "    print('costumer added successfully')\n",
    "    print()\n",
    "    print()\n",
    "    print(cos)\n",
    "    showMenu()   "
   ]
  },
  {
   "cell_type": "code",
   "execution_count": 6,
   "id": "dc6b5550-731a-4b62-b8a2-e2f8c3c6ff0c",
   "metadata": {},
   "outputs": [],
   "source": [
    "def deletecostumerdetail():\n",
    "    costumername=input(\"enter costumer name whose details to be deleted :: \")\n",
    "    cos=pd.read_csv(\"costumer.csv\")\n",
    "    cos=cos.drop(cos[cos[\"costumername\"]==costumername].index)\n",
    "    cos.to_csv(\"costumer.csv\",\"r\",index=False)\n",
    "    print(\"costumer detail deleted successfully\")\n",
    "    print(cos)\n",
    "    showMenu() "
   ]
  },
  {
   "cell_type": "code",
   "execution_count": 7,
   "id": "0ffc4819-bba6-43b7-a606-15f50520d10f",
   "metadata": {},
   "outputs": [],
   "source": [
    "def showproducts():\n",
    "    pro=pd.read_csv(\"electronic.csv\", index_col=0)\n",
    "    print(pro)\n",
    "    showMenu()    "
   ]
  },
  {
   "cell_type": "code",
   "execution_count": 8,
   "id": "21f7f238-9337-4912-ae07-33c6761570df",
   "metadata": {},
   "outputs": [],
   "source": [
    "def searchproduct():\n",
    "    productname=input(\"enter product name\")\n",
    "    pro=pd.read_csv(\"electronic.csv\")\n",
    "    df=pro.loc[pro[\"ProductName\"]==productname]\n",
    "    if df.empty:\n",
    "        print(\"no details found of given name\")\n",
    "    else:\n",
    "        print(\"product details are\")\n",
    "        print(df)\n",
    "    showMenu()"
   ]
  },
  {
   "cell_type": "code",
   "execution_count": 9,
   "id": "f9aefda5-f6fa-45e4-bab4-6333369b2dcc",
   "metadata": {},
   "outputs": [],
   "source": [
    "def addnewproduct():\n",
    "    productid = int(input(\"enter the product id :: \"))\n",
    "    productname = input(\"enter product name :: \")\n",
    "    brand = input(\"enter brand name :: \")\n",
    "    costprice = int(input(\"enter cost price :: \"))\n",
    "    sellprice = int(input(\"enter selling price :: \"))\n",
    "    profit = int(input(\"enter the profit :: \"))\n",
    "    yearlysales = input(\"enter the yearly sales percentage :: \")\n",
    "    pro=pd.read_csv(\"electronic.csv\")\n",
    "    n=pro[\"SNo\"].count()\n",
    "    pro.at[n]=[SNo,ProductId,ProductName,Brand,CostPrice,SellPrice,Profit,YearlySales]\n",
    "    pro.to_csv(\"electronic.csv\",index=False)\n",
    "    print('new product added successfully')\n",
    "    print(pro)\n",
    "    showMenu()        "
   ]
  },
  {
   "cell_type": "code",
   "execution_count": 10,
   "id": "d859a051-20b8-43dc-9add-a77dae9518a0",
   "metadata": {},
   "outputs": [],
   "source": [
    "def deleteproductdetail():\n",
    "    productname=input(\"enter product name whose details to be deleted :: \")\n",
    "    pro=pd.read_csv(\"electronic.csv\")\n",
    "    pro=pro.drop(pro[pro[\"productname\"]==productname].index)\n",
    "    pro.to_csv(\"electronic.csv\",\"r\",index=False)\n",
    "    print(\"product detail deleted successfully\")\n",
    "    print(pro)\n",
    "    showMenu()"
   ]
  },
  {
   "cell_type": "code",
   "execution_count": 11,
   "id": "8a309ec6-c99d-4b0f-8b13-d7de3c77ff14",
   "metadata": {},
   "outputs": [],
   "source": [
    "    \n",
    "def veiwprofitchart():\n",
    "    df = pd.read_csv(r\"electronic.csv\")\n",
    "    df = df[[\"Product name\",\"Profit\"]]\n",
    "    df.plot(\"Product name\",\"Profit\", linewidth = 1.0, marker = \"o\", mfc= 'red', ylabel = 'Profit')\n",
    "    plt.title(\"Product name VS Profit\")\n",
    "    plt.xlabel('product name--------->')\n",
    "    plt.ylabel('profit---------->')\n",
    "    plt.show()\n",
    "    \n",
    "    showMenu()"
   ]
  },
  {
   "cell_type": "code",
   "execution_count": 12,
   "id": "699626ff-82e9-4a91-baaf-08bc261f05e4",
   "metadata": {},
   "outputs": [],
   "source": [
    "def veiwsell_productchart():\n",
    "    df = pd.read_csv(r\"electronic.csv\")\n",
    "    df = df[[\"Product name\",\"Yearly Sales(in %)\"]]\n",
    "    df.plot(\"Product name\",\"Yearly Sales(in %)\",kind = \"bar\", color = \"blue\", \n",
    "            ylabel = \"yearly sales by percentage\",\n",
    "            title = \"product Vs yearly sales\")\n",
    "    plt.xlabel('product name')\n",
    "    plt.ylabel('Yearly sales')\n",
    "    plt.show()\n",
    "    showMenu()"
   ]
  },
  {
   "cell_type": "code",
   "execution_count": 13,
   "id": "c12b69d5-6bb6-4262-917a-1d08753f89b2",
   "metadata": {},
   "outputs": [],
   "source": [
    "def exit():\n",
    "    print(\"::::::::::::::::::::::::::::--THANK YOU FOR VISITING OUR SHOP--::::::::::::::::::::::::::::\")"
   ]
  },
  {
   "cell_type": "code",
   "execution_count": 14,
   "id": "9f4038d5-974d-46af-939f-a2dacb3f5bd3",
   "metadata": {},
   "outputs": [
    {
     "name": "stdout",
     "output_type": "stream",
     "text": [
      "::::::::::::::::::::::::::::--welcome to electronic shop management system--::::::::::::::::::::::::::::\n",
      "\n",
      "\n",
      "\n",
      "\n",
      ".......................................................................................................\n",
      "-------------------------------------------------------------------------------------------------------\n",
      "|                                     ELECTRONIC SHOP ASSOCIATION                                     |\n",
      "-------------------------------------------------------------------------------------------------------\n",
      ".......................................................................................................\n",
      "Press 1 - to show all costumer details\n",
      "Press 2 - to search in costumer\n",
      "Press 3 - to add new costumer\n",
      "Press 4 - to delete product detail\n",
      "Press 5 - to show all product details\n",
      "Press 6 - to search in product\n",
      "Press 7 - to add new product\n",
      "Press 8 - to delete product details\n",
      "Press 9 - to veiw product VS profit chart\n",
      "Press 10 - to veiw sells VS product chart\n",
      "Press 11 - to exit\n",
      "\n",
      "\n",
      "\n"
     ]
    },
    {
     "name": "stdin",
     "output_type": "stream",
     "text": [
      "enter the choice::: 1\n"
     ]
    },
    {
     "name": "stdout",
     "output_type": "stream",
     "text": [
      "          COSTUMER NAME ITEM PURCHASE      BRAND  PRICE   PHONE NO.  \\\n",
      "S.NO                                                                  \n",
      "1      Siddharth Mishra    television    samsung  42999  8923942743   \n",
      "2        Abhinav Shetty        Fridge  whirlpool  19999  8752341654   \n",
      "3            Ritik Shaw           fan       usha   8449  6264529654   \n",
      "4       Radhika Acharya     microwave         LG  14999  9658458752   \n",
      "5            Aman Arora        cooler   shyphony   4999  9854672154   \n",
      "6           Chirag Vyas    television    samsung  42999  8957652548   \n",
      "7         Raghav Kasote     projector  panasonic   6999  9857456254   \n",
      "8      Harshad Choudary        fridge  whirlpool  19999  6985755554   \n",
      "9          Girish Patel     induction   prestige   5149  8754448571   \n",
      "10        Amrita Parmar           fan       usha   8449  7789544621   \n",
      "11          Naman Mehta          cctv  panasonic   4500  8946513251   \n",
      "12       Karishma Kohli          A.C.      bajaj  48999  9517486127   \n",
      "13         Sristi Patel     microwave         LG  14999  9188815235   \n",
      "14      Akshat Sisodiya        heater      bajaj   1550  9745254281   \n",
      "\n",
      "      DATE OF PURCASE  \n",
      "S.NO                   \n",
      "1          14-03-2022  \n",
      "2          14-03-2022  \n",
      "3          15-03-2022  \n",
      "4          15-03-2022  \n",
      "5          15-03-2022  \n",
      "6          15-03-2022  \n",
      "7          16-03-2022  \n",
      "8          16-03-2022  \n",
      "9          16-03-2022  \n",
      "10         17-03-2022  \n",
      "11         17-03-2022  \n",
      "12         18-03-2022  \n",
      "13         18-03-2022  \n",
      "14         18-03-2022  \n",
      "::::::::::::::::::::::::::::--welcome to electronic shop management system--::::::::::::::::::::::::::::\n",
      "\n",
      "\n",
      "\n",
      "\n",
      ".......................................................................................................\n",
      "-------------------------------------------------------------------------------------------------------\n",
      "|                                     ELECTRONIC SHOP ASSOCIATION                                     |\n",
      "-------------------------------------------------------------------------------------------------------\n",
      ".......................................................................................................\n",
      "Press 1 - to show all costumer details\n",
      "Press 2 - to search in costumer\n",
      "Press 3 - to add new costumer\n",
      "Press 4 - to delete product detail\n",
      "Press 5 - to show all product details\n",
      "Press 6 - to search in product\n",
      "Press 7 - to add new product\n",
      "Press 8 - to delete product details\n",
      "Press 9 - to veiw product VS profit chart\n",
      "Press 10 - to veiw sells VS product chart\n",
      "Press 11 - to exit\n",
      "\n",
      "\n",
      "\n"
     ]
    },
    {
     "name": "stdin",
     "output_type": "stream",
     "text": [
      "enter the choice::: 5\n"
     ]
    },
    {
     "name": "stdout",
     "output_type": "stream",
     "text": [
      "       Product id Product name      Brand  Cost price  Selling price  Profit  \\\n",
      "S.No                                                                           \n",
      "1             102         A.C.      bajaj       44399          48999    4600   \n",
      "2            2352       Cooler  shymphony        4599           4999     400   \n",
      "3             452          Fan       usha        7000           8449    1449   \n",
      "4            2143       Fridge  whirlpool       17899          19999    2100   \n",
      "5             111    Mircowave         LG       12999          14999    2000   \n",
      "6            2211       heater      bajaj        1500           1550      50   \n",
      "7            3121    projector  panasonic        6549           6999     450   \n",
      "8            4211   television    sumsung       35999          42999    7000   \n",
      "9            2314         cctv  panasonic        3990           4500     510   \n",
      "10           4353    induction   prestige        4000           5149    1149   \n",
      "\n",
      "       Yearly Sales(in %)  \n",
      "S.No                       \n",
      "1                    65.0  \n",
      "2                    75.0  \n",
      "3                    96.0  \n",
      "4                    58.0  \n",
      "5                    25.0  \n",
      "6                    70.0  \n",
      "7                    85.0  \n",
      "8                    68.0  \n",
      "9                    73.0  \n",
      "10                   55.0  \n",
      "::::::::::::::::::::::::::::--welcome to electronic shop management system--::::::::::::::::::::::::::::\n",
      "\n",
      "\n",
      "\n",
      "\n",
      ".......................................................................................................\n",
      "-------------------------------------------------------------------------------------------------------\n",
      "|                                     ELECTRONIC SHOP ASSOCIATION                                     |\n",
      "-------------------------------------------------------------------------------------------------------\n",
      ".......................................................................................................\n",
      "Press 1 - to show all costumer details\n",
      "Press 2 - to search in costumer\n",
      "Press 3 - to add new costumer\n",
      "Press 4 - to delete product detail\n",
      "Press 5 - to show all product details\n",
      "Press 6 - to search in product\n",
      "Press 7 - to add new product\n",
      "Press 8 - to delete product details\n",
      "Press 9 - to veiw product VS profit chart\n",
      "Press 10 - to veiw sells VS product chart\n",
      "Press 11 - to exit\n",
      "\n",
      "\n",
      "\n"
     ]
    },
    {
     "name": "stdin",
     "output_type": "stream",
     "text": [
      "enter the choice::: 9\n"
     ]
    },
    {
     "data": {
      "image/png": "[encoded data removed]",
      "text/plain": [
       "<Figure size 640x480 with 1 Axes>"
      ]
     },
     "metadata": {},
     "output_type": "display_data"
    },
    {
     "name": "stdout",
     "output_type": "stream",
     "text": [
      "::::::::::::::::::::::::::::--welcome to electronic shop management system--::::::::::::::::::::::::::::\n",
      "\n",
      "\n",
      "\n",
      "\n",
      ".......................................................................................................\n",
      "-------------------------------------------------------------------------------------------------------\n",
      "|                                     ELECTRONIC SHOP ASSOCIATION                                     |\n",
      "-------------------------------------------------------------------------------------------------------\n",
      ".......................................................................................................\n",
      "Press 1 - to show all costumer details\n",
      "Press 2 - to search in costumer\n",
      "Press 3 - to add new costumer\n",
      "Press 4 - to delete product detail\n",
      "Press 5 - to show all product details\n",
      "Press 6 - to search in product\n",
      "Press 7 - to add new product\n",
      "Press 8 - to delete product details\n",
      "Press 9 - to veiw product VS profit chart\n",
      "Press 10 - to veiw sells VS product chart\n",
      "Press 11 - to exit\n",
      "\n",
      "\n",
      "\n"
     ]
    },
    {
     "name": "stdin",
     "output_type": "stream",
     "text": [
      "enter the choice::: 10\n"
     ]
    },
    {
     "data": {
      "image/png": "[encoded data removed]",
      "text/plain": [
       "<Figure size 640x480 with 1 Axes>"
      ]
     },
     "metadata": {},
     "output_type": "display_data"
    },
    {
     "name": "stdout",
     "output_type": "stream",
     "text": [
      "::::::::::::::::::::::::::::--welcome to electronic shop management system--::::::::::::::::::::::::::::\n",
      "\n",
      "\n",
      "\n",
      "\n",
      ".......................................................................................................\n",
      "-------------------------------------------------------------------------------------------------------\n",
      "|                                     ELECTRONIC SHOP ASSOCIATION                                     |\n",
      "-------------------------------------------------------------------------------------------------------\n",
      ".......................................................................................................\n",
      "Press 1 - to show all costumer details\n",
      "Press 2 - to search in costumer\n",
      "Press 3 - to add new costumer\n",
      "Press 4 - to delete product detail\n",
      "Press 5 - to show all product details\n",
      "Press 6 - to search in product\n",
      "Press 7 - to add new product\n",
      "Press 8 - to delete product details\n",
      "Press 9 - to veiw product VS profit chart\n",
      "Press 10 - to veiw sells VS product chart\n",
      "Press 11 - to exit\n",
      "\n",
      "\n",
      "\n"
     ]
    },
    {
     "name": "stdin",
     "output_type": "stream",
     "text": [
      "enter the choice::: 11\n"
     ]
    },
    {
     "name": "stdout",
     "output_type": "stream",
     "text": [
      "::::::::::::::::::::::::::::--THANK YOU FOR VISITING OUR SHOP--::::::::::::::::::::::::::::\n"
     ]
    }
   ],
   "source": [
    "showMenu()"
   ]
  },
  {
   "cell_type": "code",
   "execution_count": null,
   "id": "0635b1f6-337f-4aae-b8d7-abbba36f4621",
   "metadata": {},
   "outputs": [],
   "source": []
  }
 ],
 "metadata": {
  "kernelspec": {
   "display_name": "Python 3 (ipykernel)",
   "language": "python",
   "name": "python3"
  },
  "language_info": {
   "codemirror_mode": {
    "name": "ipython",
    "version": 3
   },
   "file_extension": ".py",
   "mimetype": "text/x-python",
   "name": "python",
   "nbconvert_exporter": "python",
   "pygments_lexer": "ipython3",
   "version": "3.8.8"
  }
 },
 "nbformat": 4,
 "nbformat_minor": 5
}
